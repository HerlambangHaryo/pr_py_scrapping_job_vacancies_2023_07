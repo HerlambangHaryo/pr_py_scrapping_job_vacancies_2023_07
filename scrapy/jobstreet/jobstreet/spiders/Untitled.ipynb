{
 "cells": [
  {
   "cell_type": "code",
   "execution_count": 3,
   "id": "b8effc04",
   "metadata": {},
   "outputs": [
    {
     "name": "stdout",
     "output_type": "stream",
     "text": [
      "\"XAPI_AUTHENTICATION_GRAPHQL_HOST\": \"https://xapi.supercharge-srp.co/authentication/graphql\",\n"
     ]
    }
   ],
   "source": [
    "import codecs\n",
    "\n",
    "unicode_string = '\"XAPI_AUTHENTICATION_GRAPHQL_HOST\": \"https:\\u002F\\u002Fxapi.supercharge-srp.co\\u002Fauthentication\\u002Fgraphql\",'\n",
    "\n",
    "# Decode Unicode escape sequence\n",
    "decoded_string = codecs.decode(unicode_string, 'unicode-escape')\n",
    "\n",
    "print(decoded_string)  # Output: /\n"
   ]
  },
  {
   "cell_type": "code",
   "execution_count": null,
   "id": "f112112f",
   "metadata": {},
   "outputs": [],
   "source": []
  },
  {
   "cell_type": "code",
   "execution_count": null,
   "id": "d85068c7",
   "metadata": {},
   "outputs": [],
   "source": []
  }
 ],
 "metadata": {
  "kernelspec": {
   "display_name": "Python 3 (ipykernel)",
   "language": "python",
   "name": "python3"
  },
  "language_info": {
   "codemirror_mode": {
    "name": "ipython",
    "version": 3
   },
   "file_extension": ".py",
   "mimetype": "text/x-python",
   "name": "python",
   "nbconvert_exporter": "python",
   "pygments_lexer": "ipython3",
   "version": "3.9.12"
  }
 },
 "nbformat": 4,
 "nbformat_minor": 5
}
